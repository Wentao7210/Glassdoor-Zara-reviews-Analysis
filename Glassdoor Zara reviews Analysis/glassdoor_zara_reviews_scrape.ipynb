{
 "cells": [
  {
   "cell_type": "code",
   "execution_count": 1,
   "metadata": {},
   "outputs": [],
   "source": [
    "from selenium import webdriver\n",
    "from selenium.webdriver.chrome.options import Options\n",
    "from selenium.webdriver.chrome.service import Service\n",
    "from selenium.webdriver.common.by import By\n",
    "from selenium.webdriver.support.ui import WebDriverWait\n",
    "from selenium.webdriver.support import expected_conditions as EC\n",
    "from selenium.common.exceptions import NoSuchElementException, ElementClickInterceptedException\n",
    "import time\n",
    "from bs4 import BeautifulSoup\n",
    "import pandas as pd"
   ]
  },
  {
   "cell_type": "code",
   "execution_count": 2,
   "metadata": {},
   "outputs": [],
   "source": [
    "review_list = []"
   ]
  },
  {
   "cell_type": "code",
   "execution_count": 3,
   "metadata": {},
   "outputs": [],
   "source": [
    "# define a function to scrape the reviews from each page, input is a tuple from start page to end page\n",
    "def scrape_reviews(page_range: tuple):\n",
    "    for page_number in range(page_range[0], page_range[1]+1):\n",
    "        try:\n",
    "            # Create a new instance of the Chrome driver\n",
    "            driver = webdriver.Chrome()\n",
    "            driver.get(\"https://www.glassdoor.co.uk/Reviews/Zara-Reviews-E17544_P\"+str(page_number)+\".htm?filter.iso3Language=eng\")\n",
    "            \n",
    "            # Find all elements with matching XPath\n",
    "            review_elements = driver.find_elements(By.XPATH, '//*[starts-with(@id, \"empReview_\")]')\n",
    "            \n",
    "            # Iterate through each element and extract the text\n",
    "            for element in review_elements:\n",
    "                review = element.text\n",
    "                # append each review to a list\n",
    "                review_list.append(review)\n",
    "            #close the driver\n",
    "            driver.quit()\n",
    "        except:\n",
    "            # if a unknown error occurs, try again\n",
    "            driver = webdriver.Chrome()\n",
    "            driver.get(\"https://www.glassdoor.co.uk/Reviews/Zara-Reviews-E17544_P\"+str(page_number)+\".htm?filter.iso3Language=eng\")\n",
    "            ids = driver.find_elements(By.XPATH, '//*[starts-with(@id, \"empReview_\")]')\n",
    "            for element in ids:\n",
    "                review = element.text\n",
    "            review_list.append(review)\n",
    "            driver.quit()\n",
    "            # continue to the next page\n",
    "            continue"
   ]
  },
  {
   "cell_type": "code",
   "execution_count": 6,
   "metadata": {},
   "outputs": [],
   "source": [
    "scrape_reviews((65,100))"
   ]
  },
  {
   "cell_type": "code",
   "execution_count": 8,
   "metadata": {},
   "outputs": [],
   "source": [
    "# convert the list to a dictionary\n",
    "review_dict = {}\n",
    "for i in range(len(review_list)):\n",
    "    review_dict[i+1] = review_list[i]\n",
    "# convert the dictionary to a csv file\n",
    "df = pd.DataFrame.from_dict(review_dict, orient='index', columns=['review'])"
   ]
  },
  {
   "cell_type": "code",
   "execution_count": 57,
   "metadata": {},
   "outputs": [],
   "source": [
    "# create the following columns in the df: overall rates, status(whether the reviewer is a current employee or not),title,date,position,location,pros,cons.\n",
    "# split the review column into the above columns\n",
    "df['overall_rates'] = df['review'].str.split('\\n', expand=True)[0]\n",
    "df['status'] = df['review'].str.split('\\n', expand=True)[2]\n",
    "df['title'] = df['review'].str.split('\\n', expand=True)[3]\n",
    "# the date,position,location information is all in a single split row, so we need to split it again\n",
    "# the date and the position split by a '-', and the position and the location split by a string ' in '\n",
    "df['date'] = df['review'].str.split('\\n', expand=True)[4].str.split('-', expand=True)[0]\n",
    "df['position'] = df['review'].str.split('\\n', expand=True)[4].str.split('-', expand=True)[1].str.split(' in ', expand=True)[0]\n",
    "df['location'] = df['review'].str.split('\\n', expand=True)[4].str.split('-', expand=True)[1].str.split(' in ', expand=True)[1]\n",
    "\n",
    "df['pros'] = df['review'].str.split('\\n', expand=True)[9]\n",
    "df['cons'] = df['review'].str.split('\\n', expand=True)[11]\n"
   ]
  },
  {
   "cell_type": "code",
   "execution_count": 61,
   "metadata": {},
   "outputs": [],
   "source": [
    "# if the pros and cons have \"-\" in front of the text, remove it\n",
    "df['pros'] = df['pros'].str.replace('-','')\n",
    "df['cons'] = df['cons'].str.replace('-','')\n",
    "# fill the NaN values with 'None'\n",
    "df = df.fillna('None')"
   ]
  },
  {
   "cell_type": "code",
   "execution_count": 62,
   "metadata": {},
   "outputs": [
    {
     "name": "stdout",
     "output_type": "stream",
     "text": [
      "<class 'pandas.core.frame.DataFrame'>\n",
      "Int64Index: 918 entries, 1 to 918\n",
      "Data columns (total 8 columns):\n",
      " #   Column         Non-Null Count  Dtype \n",
      "---  ------         --------------  ----- \n",
      " 0   overall_rates  918 non-null    object\n",
      " 1   status         918 non-null    object\n",
      " 2   title          918 non-null    object\n",
      " 3   date           918 non-null    object\n",
      " 4   position       918 non-null    object\n",
      " 5   location       918 non-null    object\n",
      " 6   pros           918 non-null    object\n",
      " 7   cons           918 non-null    object\n",
      "dtypes: object(8)\n",
      "memory usage: 96.8+ KB\n"
     ]
    },
    {
     "data": {
      "text/html": [
       "<div>\n",
       "<style scoped>\n",
       "    .dataframe tbody tr th:only-of-type {\n",
       "        vertical-align: middle;\n",
       "    }\n",
       "\n",
       "    .dataframe tbody tr th {\n",
       "        vertical-align: top;\n",
       "    }\n",
       "\n",
       "    .dataframe thead th {\n",
       "        text-align: right;\n",
       "    }\n",
       "</style>\n",
       "<table border=\"1\" class=\"dataframe\">\n",
       "  <thead>\n",
       "    <tr style=\"text-align: right;\">\n",
       "      <th></th>\n",
       "      <th>overall_rates</th>\n",
       "      <th>status</th>\n",
       "      <th>title</th>\n",
       "      <th>date</th>\n",
       "      <th>position</th>\n",
       "      <th>location</th>\n",
       "      <th>pros</th>\n",
       "      <th>cons</th>\n",
       "    </tr>\n",
       "  </thead>\n",
       "  <tbody>\n",
       "    <tr>\n",
       "      <th>1</th>\n",
       "      <td>5.0</td>\n",
       "      <td>Former Employee</td>\n",
       "      <td>Retail assistant review</td>\n",
       "      <td>8 May 2023</td>\n",
       "      <td>Retail Assistant</td>\n",
       "      <td>None</td>\n",
       "      <td>Was fun I enjoyed working there.</td>\n",
       "      <td>Rude customers during the sales</td>\n",
       "    </tr>\n",
       "    <tr>\n",
       "      <th>2</th>\n",
       "      <td>2.0</td>\n",
       "      <td>Current Employee, more than 3 years</td>\n",
       "      <td>Avoid!!</td>\n",
       "      <td>23 May 2023</td>\n",
       "      <td>Sales Associate</td>\n",
       "      <td>Manchester City Centre, England</td>\n",
       "      <td>1. Making different  people  2. Potential for ...</td>\n",
       "      <td>1. Overworking yourself 2. Long hours 3. Manag...</td>\n",
       "    </tr>\n",
       "    <tr>\n",
       "      <th>3</th>\n",
       "      <td>3.0</td>\n",
       "      <td>Former Employee</td>\n",
       "      <td>Not the worst but not the best either</td>\n",
       "      <td>22 May 2023</td>\n",
       "      <td>Retail Sales Assistant</td>\n",
       "      <td>None</td>\n",
       "      <td>Not bad salary Not too stressful</td>\n",
       "      <td>Uniform Enviornment Staff and managers not ver...</td>\n",
       "    </tr>\n",
       "    <tr>\n",
       "      <th>4</th>\n",
       "      <td>3.0</td>\n",
       "      <td>Former Employee</td>\n",
       "      <td>Experience at Zara</td>\n",
       "      <td>28 Jan 2023</td>\n",
       "      <td>Sales Assistant</td>\n",
       "      <td>None</td>\n",
       "      <td>I was able to broaden my skills whilst workin...</td>\n",
       "      <td>I feel that there were a handful of employees ...</td>\n",
       "    </tr>\n",
       "    <tr>\n",
       "      <th>5</th>\n",
       "      <td>3.0</td>\n",
       "      <td>Former Employee</td>\n",
       "      <td>law salaries</td>\n",
       "      <td>26 May 2023</td>\n",
       "      <td>Sales Associate</td>\n",
       "      <td>Reading, England</td>\n",
       "      <td>career growth, good team, good manager</td>\n",
       "      <td>always very busy and not enough staff</td>\n",
       "    </tr>\n",
       "  </tbody>\n",
       "</table>\n",
       "</div>"
      ],
      "text/plain": [
       "  overall_rates                               status  \\\n",
       "1           5.0                      Former Employee   \n",
       "2           2.0  Current Employee, more than 3 years   \n",
       "3           3.0                      Former Employee   \n",
       "4           3.0                      Former Employee   \n",
       "5           3.0                      Former Employee   \n",
       "\n",
       "                                   title          date  \\\n",
       "1                Retail assistant review   8 May 2023    \n",
       "2                                Avoid!!  23 May 2023    \n",
       "3  Not the worst but not the best either  22 May 2023    \n",
       "4                     Experience at Zara  28 Jan 2023    \n",
       "5                           law salaries  26 May 2023    \n",
       "\n",
       "                   position                         location  \\\n",
       "1          Retail Assistant                             None   \n",
       "2           Sales Associate  Manchester City Centre, England   \n",
       "3   Retail Sales Assistant                              None   \n",
       "4          Sales Assistant                              None   \n",
       "5           Sales Associate                 Reading, England   \n",
       "\n",
       "                                                pros  \\\n",
       "1                   Was fun I enjoyed working there.   \n",
       "2  1. Making different  people  2. Potential for ...   \n",
       "3                   Not bad salary Not too stressful   \n",
       "4   I was able to broaden my skills whilst workin...   \n",
       "5             career growth, good team, good manager   \n",
       "\n",
       "                                                cons  \n",
       "1                    Rude customers during the sales  \n",
       "2  1. Overworking yourself 2. Long hours 3. Manag...  \n",
       "3  Uniform Enviornment Staff and managers not ver...  \n",
       "4  I feel that there were a handful of employees ...  \n",
       "5              always very busy and not enough staff  "
      ]
     },
     "execution_count": 62,
     "metadata": {},
     "output_type": "execute_result"
    }
   ],
   "source": [
    "# create a new df withou the review column\n",
    "df_reviews = df.drop(columns=['review'])\n",
    "# eda of the df_reviews\n",
    "df_reviews.info()\n",
    "df_reviews.describe()\n",
    "df_reviews.head()"
   ]
  },
  {
   "cell_type": "code",
   "execution_count": null,
   "metadata": {},
   "outputs": [],
   "source": [
    "df_reviews.to_csv('F:/Meta/Web/zara_reviews.csv', index=False, encoding='utf-8-sig')\n"
   ]
  },
  {
   "cell_type": "code",
   "execution_count": 76,
   "metadata": {},
   "outputs": [
    {
     "name": "stderr",
     "output_type": "stream",
     "text": [
      "[nltk_data] Downloading package stopwords to\n",
      "[nltk_data]     C:\\Users\\sunwe\\AppData\\Roaming\\nltk_data...\n",
      "[nltk_data]   Unzipping corpora\\stopwords.zip.\n"
     ]
    }
   ],
   "source": [
    "# get most frequent words in pros and cons\n",
    "from collections import Counter\n",
    "import nltk\n",
    "nltk.download('stopwords')\n",
    "import re\n",
    "\n",
    "# define a function to get the most frequent words in a column\n",
    "def get_most_frequent_words(column):\n",
    "    # create a list to store all the words\n",
    "    all_words = []\n",
    "    # iterate through each row in the column\n",
    "    for row in column:\n",
    "        # split the text by space\n",
    "        words = row.split(' ')\n",
    "        # iterate through each word in the row\n",
    "        for word in words:\n",
    "            # if the word is not a stopword, append it to the list\n",
    "            if word not in stopwords.words('english'):\n",
    "                all_words.append(word)\n",
    "    # get the top 10 most frequent words\n",
    "    most_frequent_words = Counter(all_words).most_common(10)\n",
    "    # return the most frequent words\n",
    "    return most_frequent_words\n",
    "\n",
    "# get the most frequent words in pros and cons\n",
    "most_frequent_words_in_pros = get_most_frequent_words(df_reviews['pros'])\n",
    "most_frequent_words_in_cons = get_most_frequent_words(df_reviews['cons'])\n"
   ]
  },
  {
   "cell_type": "code",
   "execution_count": 77,
   "metadata": {},
   "outputs": [
    {
     "data": {
      "text/plain": [
       "[('work', 229),\n",
       " ('I', 224),\n",
       " ('', 196),\n",
       " ('hours', 150),\n",
       " ('management', 127),\n",
       " ('staff', 127),\n",
       " ('managers', 127),\n",
       " ('get', 112),\n",
       " ('time', 104),\n",
       " ('working', 97)]"
      ]
     },
     "execution_count": 77,
     "metadata": {},
     "output_type": "execute_result"
    }
   ],
   "source": [
    "most_frequent_words_in_cons"
   ]
  },
  {
   "cell_type": "code",
   "execution_count": 78,
   "metadata": {},
   "outputs": [
    {
     "data": {
      "text/plain": [
       "[('good', 232),\n",
       " ('Good', 184),\n",
       " ('discount', 165),\n",
       " ('work', 163),\n",
       " ('pay', 121),\n",
       " ('', 110),\n",
       " ('nice', 104),\n",
       " ('people', 95),\n",
       " ('I', 93),\n",
       " ('staff', 84)]"
      ]
     },
     "execution_count": 78,
     "metadata": {},
     "output_type": "execute_result"
    }
   ],
   "source": [
    "most_frequent_words_in_pros"
   ]
  }
 ],
 "metadata": {
  "kernelspec": {
   "display_name": ".venv",
   "language": "python",
   "name": "python3"
  },
  "language_info": {
   "codemirror_mode": {
    "name": "ipython",
    "version": 3
   },
   "file_extension": ".py",
   "mimetype": "text/x-python",
   "name": "python",
   "nbconvert_exporter": "python",
   "pygments_lexer": "ipython3",
   "version": "3.9.13"
  },
  "orig_nbformat": 4
 },
 "nbformat": 4,
 "nbformat_minor": 2
}
